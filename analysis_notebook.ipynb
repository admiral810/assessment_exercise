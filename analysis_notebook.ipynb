{
 "cells": [
  {
   "cell_type": "markdown",
   "metadata": {},
   "source": [
    "# Initial Setup\n",
    "Import libraries and read in data"
   ]
  },
  {
   "cell_type": "code",
   "execution_count": 1,
   "metadata": {
    "ExecuteTime": {
     "end_time": "2021-02-15T22:38:19.142903Z",
     "start_time": "2021-02-15T22:38:17.683294Z"
    }
   },
   "outputs": [],
   "source": [
    "import pandas as pd\n",
    "import numpy as np\n",
    "from datetime import datetime\n",
    "from datetime import date\n",
    "\n",
    "import seaborn as sns\n",
    "import matplotlib.pyplot as plt\n",
    "%matplotlib inline"
   ]
  },
  {
   "cell_type": "code",
   "execution_count": 2,
   "metadata": {
    "ExecuteTime": {
     "end_time": "2021-02-15T22:38:19.401227Z",
     "start_time": "2021-02-15T22:38:19.144900Z"
    }
   },
   "outputs": [
    {
     "data": {
      "text/html": [
       "<div>\n",
       "<style scoped>\n",
       "    .dataframe tbody tr th:only-of-type {\n",
       "        vertical-align: middle;\n",
       "    }\n",
       "\n",
       "    .dataframe tbody tr th {\n",
       "        vertical-align: top;\n",
       "    }\n",
       "\n",
       "    .dataframe thead th {\n",
       "        text-align: right;\n",
       "    }\n",
       "</style>\n",
       "<table border=\"1\" class=\"dataframe\">\n",
       "  <thead>\n",
       "    <tr style=\"text-align: right;\">\n",
       "      <th></th>\n",
       "      <th>Date</th>\n",
       "      <th>Platform</th>\n",
       "      <th>Platform ID</th>\n",
       "      <th>Product</th>\n",
       "      <th>Product ID</th>\n",
       "      <th>Revenue</th>\n",
       "      <th>Units</th>\n",
       "      <th>Price per Thousand Units</th>\n",
       "      <th>Device</th>\n",
       "      <th>Environment</th>\n",
       "      <th>Format</th>\n",
       "    </tr>\n",
       "  </thead>\n",
       "  <tbody>\n",
       "    <tr>\n",
       "      <td>0</td>\n",
       "      <td>2019-09-01</td>\n",
       "      <td>Amazon</td>\n",
       "      <td>2A96TF7T</td>\n",
       "      <td>Social</td>\n",
       "      <td>Y2</td>\n",
       "      <td>107</td>\n",
       "      <td>NaN</td>\n",
       "      <td>NaN</td>\n",
       "      <td>Mobile</td>\n",
       "      <td>NaN</td>\n",
       "      <td>Video</td>\n",
       "    </tr>\n",
       "    <tr>\n",
       "      <td>1</td>\n",
       "      <td>2019-09-01</td>\n",
       "      <td>Amazon</td>\n",
       "      <td>2A96TF7T</td>\n",
       "      <td>Social</td>\n",
       "      <td>Y2</td>\n",
       "      <td>352</td>\n",
       "      <td>NaN</td>\n",
       "      <td>NaN</td>\n",
       "      <td>Mobile</td>\n",
       "      <td>NaN</td>\n",
       "      <td>Display</td>\n",
       "    </tr>\n",
       "  </tbody>\n",
       "</table>\n",
       "</div>"
      ],
      "text/plain": [
       "        Date Platform Platform ID Product Product ID  Revenue  Units  \\\n",
       "0 2019-09-01   Amazon    2A96TF7T  Social         Y2      107    NaN   \n",
       "1 2019-09-01   Amazon    2A96TF7T  Social         Y2      352    NaN   \n",
       "\n",
       "   Price per Thousand Units  Device Environment   Format  \n",
       "0                       NaN  Mobile         NaN    Video  \n",
       "1                       NaN  Mobile         NaN  Display  "
      ]
     },
     "execution_count": 2,
     "metadata": {},
     "output_type": "execute_result"
    }
   ],
   "source": [
    "# read in initial data\n",
    "df = pd.read_excel(\"Data/fact_table.xlsx\")\n",
    "df.head(2)"
   ]
  },
  {
   "cell_type": "code",
   "execution_count": 3,
   "metadata": {
    "ExecuteTime": {
     "end_time": "2021-02-15T22:38:19.411188Z",
     "start_time": "2021-02-15T22:38:19.404206Z"
    }
   },
   "outputs": [
    {
     "data": {
      "text/plain": [
       "Date                        datetime64[ns]\n",
       "Platform                            object\n",
       "Platform ID                         object\n",
       "Product                             object\n",
       "Product ID                          object\n",
       "Revenue                              int64\n",
       "Units                              float64\n",
       "Price per Thousand Units           float64\n",
       "Device                              object\n",
       "Environment                         object\n",
       "Format                              object\n",
       "dtype: object"
      ]
     },
     "execution_count": 3,
     "metadata": {},
     "output_type": "execute_result"
    }
   ],
   "source": [
    "df.dtypes"
   ]
  },
  {
   "cell_type": "code",
   "execution_count": 4,
   "metadata": {
    "ExecuteTime": {
     "end_time": "2021-02-15T22:38:19.443103Z",
     "start_time": "2021-02-15T22:38:19.414179Z"
    }
   },
   "outputs": [
    {
     "data": {
      "text/html": [
       "<div>\n",
       "<style scoped>\n",
       "    .dataframe tbody tr th:only-of-type {\n",
       "        vertical-align: middle;\n",
       "    }\n",
       "\n",
       "    .dataframe tbody tr th {\n",
       "        vertical-align: top;\n",
       "    }\n",
       "\n",
       "    .dataframe thead th {\n",
       "        text-align: right;\n",
       "    }\n",
       "</style>\n",
       "<table border=\"1\" class=\"dataframe\">\n",
       "  <thead>\n",
       "    <tr style=\"text-align: right;\">\n",
       "      <th></th>\n",
       "      <th>Revenue</th>\n",
       "      <th>Units</th>\n",
       "      <th>Price per Thousand Units</th>\n",
       "    </tr>\n",
       "  </thead>\n",
       "  <tbody>\n",
       "    <tr>\n",
       "      <td>count</td>\n",
       "      <td>1266.000000</td>\n",
       "      <td>3.140000e+02</td>\n",
       "      <td>255.000000</td>\n",
       "    </tr>\n",
       "    <tr>\n",
       "      <td>mean</td>\n",
       "      <td>12708.590047</td>\n",
       "      <td>2.118776e+08</td>\n",
       "      <td>0.142353</td>\n",
       "    </tr>\n",
       "    <tr>\n",
       "      <td>std</td>\n",
       "      <td>29881.008787</td>\n",
       "      <td>4.985606e+08</td>\n",
       "      <td>0.073108</td>\n",
       "    </tr>\n",
       "    <tr>\n",
       "      <td>min</td>\n",
       "      <td>101.000000</td>\n",
       "      <td>5.200000e+05</td>\n",
       "      <td>0.050000</td>\n",
       "    </tr>\n",
       "    <tr>\n",
       "      <td>25%</td>\n",
       "      <td>373.250000</td>\n",
       "      <td>3.142500e+06</td>\n",
       "      <td>0.050000</td>\n",
       "    </tr>\n",
       "    <tr>\n",
       "      <td>50%</td>\n",
       "      <td>1671.500000</td>\n",
       "      <td>2.948250e+07</td>\n",
       "      <td>0.200000</td>\n",
       "    </tr>\n",
       "    <tr>\n",
       "      <td>75%</td>\n",
       "      <td>11378.500000</td>\n",
       "      <td>9.933292e+07</td>\n",
       "      <td>0.200000</td>\n",
       "    </tr>\n",
       "    <tr>\n",
       "      <td>max</td>\n",
       "      <td>393078.000000</td>\n",
       "      <td>2.964600e+09</td>\n",
       "      <td>0.200000</td>\n",
       "    </tr>\n",
       "  </tbody>\n",
       "</table>\n",
       "</div>"
      ],
      "text/plain": [
       "             Revenue         Units  Price per Thousand Units\n",
       "count    1266.000000  3.140000e+02                255.000000\n",
       "mean    12708.590047  2.118776e+08                  0.142353\n",
       "std     29881.008787  4.985606e+08                  0.073108\n",
       "min       101.000000  5.200000e+05                  0.050000\n",
       "25%       373.250000  3.142500e+06                  0.050000\n",
       "50%      1671.500000  2.948250e+07                  0.200000\n",
       "75%     11378.500000  9.933292e+07                  0.200000\n",
       "max    393078.000000  2.964600e+09                  0.200000"
      ]
     },
     "execution_count": 4,
     "metadata": {},
     "output_type": "execute_result"
    }
   ],
   "source": [
    "df.describe()"
   ]
  },
  {
   "cell_type": "code",
   "execution_count": 5,
   "metadata": {
    "ExecuteTime": {
     "end_time": "2021-02-15T22:38:19.450083Z",
     "start_time": "2021-02-15T22:38:19.445097Z"
    }
   },
   "outputs": [],
   "source": [
    "# I prefer to flatten the columns as opposed to the multi-index, so have this function I may use after pivoting data\n",
    "def flatten_cols(df):\n",
    "    df.columns = [\n",
    "        '_'.join(tuple(map(str, t))).strip() \n",
    "        for t in df.columns.values\n",
    "        ]\n",
    "    return df"
   ]
  },
  {
   "cell_type": "markdown",
   "metadata": {},
   "source": [
    "# Revenue Trends\n",
    "In the provided dataset, there are several sheets representing data from different companies.\n",
    "Please provide visualizations showing revenue trends across the full set of clients, products,\n",
    "devices, and formats over time."
   ]
  },
  {
   "cell_type": "markdown",
   "metadata": {
    "ExecuteTime": {
     "end_time": "2021-02-15T13:39:15.388327Z",
     "start_time": "2021-02-15T13:39:15.332702Z"
    }
   },
   "source": [
    "__Rolling 24 Month Dataframe__\n",
    "Create a rolling 24 month dataframe which is going to be used for both the customer and product analysis sections"
   ]
  },
  {
   "cell_type": "code",
   "execution_count": 6,
   "metadata": {
    "ExecuteTime": {
     "end_time": "2021-02-15T22:38:19.475041Z",
     "start_time": "2021-02-15T22:38:19.452078Z"
    }
   },
   "outputs": [
    {
     "data": {
      "text/plain": [
       "count                    1018\n",
       "unique                     24\n",
       "top       2018-10-01 00:00:00\n",
       "freq                       49\n",
       "first     2017-10-01 00:00:00\n",
       "last      2019-09-01 00:00:00\n",
       "Name: Date, dtype: object"
      ]
     },
     "execution_count": 6,
     "metadata": {},
     "output_type": "execute_result"
    }
   ],
   "source": [
    "# get 24 month period for analysis\n",
    "start_date = date(2017, 9, 1).strftime(\"%Y-%m-%d\")\n",
    "last_24mos = df.loc[df['Date'] > start_date]\n",
    "last_24mos['Date'].describe()"
   ]
  },
  {
   "cell_type": "code",
   "execution_count": 7,
   "metadata": {
    "ExecuteTime": {
     "end_time": "2021-02-15T22:38:19.487990Z",
     "start_time": "2021-02-15T22:38:19.480017Z"
    }
   },
   "outputs": [],
   "source": [
    "# function which adds a YOY period for a rolling 24 months \n",
    "def add_yoy_period(df, period_id):\n",
    "    \"\"\"\n",
    "    Dataframe specific function which is used to create a new column \"yoy_period\" that has last year and current year periods \n",
    "    distinctly identified. Must have 24 total periods (months).\n",
    "\n",
    "    Parameters:\n",
    "        df: the dataframe being used to derive yoy period from.\n",
    "        col_name: the column you are using to derive the YOY periods (likely month, period, etc.)\n",
    "  \n",
    "    \"\"\"\n",
    "    # get the year over year periods\n",
    "    periods = df[period_id].unique()\n",
    "    periods_df = pd.DataFrame({period_id : periods}).sort_values(period_id, ascending=True)\n",
    "\n",
    "    # get first 12 periods\n",
    "    ly_period_df = periods_df.iloc[0:12, :]\n",
    "    ly_period_df[\"yoy_period\"] = \"last year\"\n",
    "\n",
    "    # get last 12 periods\n",
    "    cy_period_df = periods_df.iloc[12:, :]\n",
    "    cy_period_df[\"yoy_period\"] = \"current year\"\n",
    "\n",
    "    periods_df = pd.concat([ly_period_df, cy_period_df])\n",
    "\n",
    "    # merge with the existing dataframe\n",
    "    df = df.merge(periods_df, on=period_id)\n",
    "\n",
    "    return df"
   ]
  },
  {
   "cell_type": "code",
   "execution_count": 8,
   "metadata": {
    "ExecuteTime": {
     "end_time": "2021-02-15T22:38:19.531865Z",
     "start_time": "2021-02-15T22:38:19.492968Z"
    },
    "scrolled": true
   },
   "outputs": [
    {
     "name": "stdout",
     "output_type": "stream",
     "text": [
      "Note: warning shouldn't be a problem, it is from the temporary table in the function that's merged with the \n",
      "passed in dataframe and then discarded\n"
     ]
    },
    {
     "name": "stderr",
     "output_type": "stream",
     "text": [
      "C:\\Users\\adamj\\Anaconda3\\lib\\site-packages\\ipykernel_launcher.py:18: SettingWithCopyWarning: \n",
      "A value is trying to be set on a copy of a slice from a DataFrame.\n",
      "Try using .loc[row_indexer,col_indexer] = value instead\n",
      "\n",
      "See the caveats in the documentation: http://pandas.pydata.org/pandas-docs/stable/user_guide/indexing.html#returning-a-view-versus-a-copy\n",
      "C:\\Users\\adamj\\Anaconda3\\lib\\site-packages\\ipykernel_launcher.py:22: SettingWithCopyWarning: \n",
      "A value is trying to be set on a copy of a slice from a DataFrame.\n",
      "Try using .loc[row_indexer,col_indexer] = value instead\n",
      "\n",
      "See the caveats in the documentation: http://pandas.pydata.org/pandas-docs/stable/user_guide/indexing.html#returning-a-view-versus-a-copy\n"
     ]
    },
    {
     "data": {
      "text/html": [
       "<div>\n",
       "<style scoped>\n",
       "    .dataframe tbody tr th:only-of-type {\n",
       "        vertical-align: middle;\n",
       "    }\n",
       "\n",
       "    .dataframe tbody tr th {\n",
       "        vertical-align: top;\n",
       "    }\n",
       "\n",
       "    .dataframe thead th {\n",
       "        text-align: right;\n",
       "    }\n",
       "</style>\n",
       "<table border=\"1\" class=\"dataframe\">\n",
       "  <thead>\n",
       "    <tr style=\"text-align: right;\">\n",
       "      <th></th>\n",
       "      <th>Date</th>\n",
       "      <th>Platform</th>\n",
       "      <th>Platform ID</th>\n",
       "      <th>Product</th>\n",
       "      <th>Product ID</th>\n",
       "      <th>Revenue</th>\n",
       "      <th>Units</th>\n",
       "      <th>Price per Thousand Units</th>\n",
       "      <th>Device</th>\n",
       "      <th>Environment</th>\n",
       "      <th>Format</th>\n",
       "      <th>yoy_period</th>\n",
       "    </tr>\n",
       "  </thead>\n",
       "  <tbody>\n",
       "    <tr>\n",
       "      <td>0</td>\n",
       "      <td>2019-09-01</td>\n",
       "      <td>Amazon</td>\n",
       "      <td>2A96TF7T</td>\n",
       "      <td>Social</td>\n",
       "      <td>Y2</td>\n",
       "      <td>107</td>\n",
       "      <td>NaN</td>\n",
       "      <td>NaN</td>\n",
       "      <td>Mobile</td>\n",
       "      <td>NaN</td>\n",
       "      <td>Video</td>\n",
       "      <td>current year</td>\n",
       "    </tr>\n",
       "    <tr>\n",
       "      <td>1</td>\n",
       "      <td>2019-09-01</td>\n",
       "      <td>Amazon</td>\n",
       "      <td>2A96TF7T</td>\n",
       "      <td>Social</td>\n",
       "      <td>Y2</td>\n",
       "      <td>352</td>\n",
       "      <td>NaN</td>\n",
       "      <td>NaN</td>\n",
       "      <td>Mobile</td>\n",
       "      <td>NaN</td>\n",
       "      <td>Display</td>\n",
       "      <td>current year</td>\n",
       "    </tr>\n",
       "  </tbody>\n",
       "</table>\n",
       "</div>"
      ],
      "text/plain": [
       "        Date Platform Platform ID Product Product ID  Revenue  Units  \\\n",
       "0 2019-09-01   Amazon    2A96TF7T  Social         Y2      107    NaN   \n",
       "1 2019-09-01   Amazon    2A96TF7T  Social         Y2      352    NaN   \n",
       "\n",
       "   Price per Thousand Units  Device Environment   Format    yoy_period  \n",
       "0                       NaN  Mobile         NaN    Video  current year  \n",
       "1                       NaN  Mobile         NaN  Display  current year  "
      ]
     },
     "execution_count": 8,
     "metadata": {},
     "output_type": "execute_result"
    }
   ],
   "source": [
    "# add in a YOY period column\n",
    "last_24mos_df = add_yoy_period(last_24mos, 'Date')\n",
    "\n",
    "print(\"\"\"Note: warning shouldn't be a problem, it is from the temporary table in the function that's merged with the \n",
    "passed in dataframe and then discarded\"\"\")\n",
    "\n",
    "last_24mos_df.head(2)"
   ]
  },
  {
   "cell_type": "markdown",
   "metadata": {},
   "source": [
    "## Overall Revenue Analysis"
   ]
  },
  {
   "cell_type": "code",
   "execution_count": 9,
   "metadata": {
    "ExecuteTime": {
     "end_time": "2021-02-15T22:38:19.599686Z",
     "start_time": "2021-02-15T22:38:19.534858Z"
    }
   },
   "outputs": [
    {
     "name": "stdout",
     "output_type": "stream",
     "text": [
      "NaN are expected as there wouldn't be same periods the year prior for the earliest months in the dataset\n"
     ]
    },
    {
     "data": {
      "text/html": [
       "<div>\n",
       "<style scoped>\n",
       "    .dataframe tbody tr th:only-of-type {\n",
       "        vertical-align: middle;\n",
       "    }\n",
       "\n",
       "    .dataframe tbody tr th {\n",
       "        vertical-align: top;\n",
       "    }\n",
       "\n",
       "    .dataframe thead th {\n",
       "        text-align: right;\n",
       "    }\n",
       "</style>\n",
       "<table border=\"1\" class=\"dataframe\">\n",
       "  <thead>\n",
       "    <tr style=\"text-align: right;\">\n",
       "      <th></th>\n",
       "      <th>Revenue</th>\n",
       "      <th>trailing_qtr_rev</th>\n",
       "      <th>yoy_qtr_rev_change</th>\n",
       "      <th>yoy_qtr_rev_change_perc</th>\n",
       "    </tr>\n",
       "    <tr>\n",
       "      <th>Date</th>\n",
       "      <th></th>\n",
       "      <th></th>\n",
       "      <th></th>\n",
       "      <th></th>\n",
       "    </tr>\n",
       "  </thead>\n",
       "  <tbody>\n",
       "    <tr>\n",
       "      <td>2017-01-01</td>\n",
       "      <td>188665</td>\n",
       "      <td>0.0</td>\n",
       "      <td>NaN</td>\n",
       "      <td>NaN</td>\n",
       "    </tr>\n",
       "    <tr>\n",
       "      <td>2017-02-01</td>\n",
       "      <td>230227</td>\n",
       "      <td>0.0</td>\n",
       "      <td>NaN</td>\n",
       "      <td>NaN</td>\n",
       "    </tr>\n",
       "    <tr>\n",
       "      <td>2017-03-01</td>\n",
       "      <td>304013</td>\n",
       "      <td>722905.0</td>\n",
       "      <td>NaN</td>\n",
       "      <td>NaN</td>\n",
       "    </tr>\n",
       "    <tr>\n",
       "      <td>2017-04-01</td>\n",
       "      <td>195051</td>\n",
       "      <td>729291.0</td>\n",
       "      <td>NaN</td>\n",
       "      <td>NaN</td>\n",
       "    </tr>\n",
       "    <tr>\n",
       "      <td>2017-05-01</td>\n",
       "      <td>243337</td>\n",
       "      <td>742401.0</td>\n",
       "      <td>NaN</td>\n",
       "      <td>NaN</td>\n",
       "    </tr>\n",
       "  </tbody>\n",
       "</table>\n",
       "</div>"
      ],
      "text/plain": [
       "            Revenue  trailing_qtr_rev  yoy_qtr_rev_change  \\\n",
       "Date                                                        \n",
       "2017-01-01   188665               0.0                 NaN   \n",
       "2017-02-01   230227               0.0                 NaN   \n",
       "2017-03-01   304013          722905.0                 NaN   \n",
       "2017-04-01   195051          729291.0                 NaN   \n",
       "2017-05-01   243337          742401.0                 NaN   \n",
       "\n",
       "            yoy_qtr_rev_change_perc  \n",
       "Date                                 \n",
       "2017-01-01                      NaN  \n",
       "2017-02-01                      NaN  \n",
       "2017-03-01                      NaN  \n",
       "2017-04-01                      NaN  \n",
       "2017-05-01                      NaN  "
      ]
     },
     "execution_count": 9,
     "metadata": {},
     "output_type": "execute_result"
    }
   ],
   "source": [
    "# create dataframe with rolling qtr revenue\n",
    "qtr_df = df.pivot_table(index='Date', aggfunc={'Revenue': 'sum'}).fillna(0)\n",
    "qtr_df['trailing_qtr_rev'] = qtr_df.rolling(3).sum().fillna(0)\n",
    "qtr_df['yoy_qtr_rev_change'] = qtr_df['trailing_qtr_rev'] - qtr_df['trailing_qtr_rev'].shift(12)\n",
    "qtr_df['yoy_qtr_rev_change_perc'] = (qtr_df['trailing_qtr_rev'] / qtr_df['trailing_qtr_rev'].shift(12) - 1) * 100\n",
    "\n",
    "print(\"NaN are expected as there wouldn't be same periods the year prior for the earliest months in the dataset\")\n",
    "qtr_df.head()"
   ]
  },
  {
   "cell_type": "code",
   "execution_count": 10,
   "metadata": {
    "ExecuteTime": {
     "end_time": "2021-02-15T22:38:19.627609Z",
     "start_time": "2021-02-15T22:38:19.603674Z"
    }
   },
   "outputs": [
    {
     "data": {
      "text/html": [
       "<div>\n",
       "<style scoped>\n",
       "    .dataframe tbody tr th:only-of-type {\n",
       "        vertical-align: middle;\n",
       "    }\n",
       "\n",
       "    .dataframe tbody tr th {\n",
       "        vertical-align: top;\n",
       "    }\n",
       "\n",
       "    .dataframe thead th {\n",
       "        text-align: right;\n",
       "    }\n",
       "</style>\n",
       "<table border=\"1\" class=\"dataframe\">\n",
       "  <thead>\n",
       "    <tr style=\"text-align: right;\">\n",
       "      <th></th>\n",
       "      <th>Date</th>\n",
       "      <th>Revenue</th>\n",
       "      <th>trailing_qtr_rev</th>\n",
       "      <th>yoy_qtr_rev_change</th>\n",
       "      <th>yoy_qtr_rev_change_perc</th>\n",
       "      <th>year_month_label</th>\n",
       "    </tr>\n",
       "  </thead>\n",
       "  <tbody>\n",
       "    <tr>\n",
       "      <td>0</td>\n",
       "      <td>2018-03-01</td>\n",
       "      <td>551398</td>\n",
       "      <td>1525107.0</td>\n",
       "      <td>802202.0</td>\n",
       "      <td>110.969214</td>\n",
       "      <td>2018-03</td>\n",
       "    </tr>\n",
       "    <tr>\n",
       "      <td>1</td>\n",
       "      <td>2018-04-01</td>\n",
       "      <td>503398</td>\n",
       "      <td>1582148.0</td>\n",
       "      <td>852857.0</td>\n",
       "      <td>116.943305</td>\n",
       "      <td>2018-04</td>\n",
       "    </tr>\n",
       "    <tr>\n",
       "      <td>2</td>\n",
       "      <td>2018-05-01</td>\n",
       "      <td>433739</td>\n",
       "      <td>1488535.0</td>\n",
       "      <td>746134.0</td>\n",
       "      <td>100.502828</td>\n",
       "      <td>2018-05</td>\n",
       "    </tr>\n",
       "    <tr>\n",
       "      <td>3</td>\n",
       "      <td>2018-06-01</td>\n",
       "      <td>513957</td>\n",
       "      <td>1451094.0</td>\n",
       "      <td>676750.0</td>\n",
       "      <td>87.396558</td>\n",
       "      <td>2018-06</td>\n",
       "    </tr>\n",
       "    <tr>\n",
       "      <td>4</td>\n",
       "      <td>2018-07-01</td>\n",
       "      <td>656696</td>\n",
       "      <td>1604392.0</td>\n",
       "      <td>809042.0</td>\n",
       "      <td>101.721506</td>\n",
       "      <td>2018-07</td>\n",
       "    </tr>\n",
       "  </tbody>\n",
       "</table>\n",
       "</div>"
      ],
      "text/plain": [
       "        Date  Revenue  trailing_qtr_rev  yoy_qtr_rev_change  \\\n",
       "0 2018-03-01   551398         1525107.0            802202.0   \n",
       "1 2018-04-01   503398         1582148.0            852857.0   \n",
       "2 2018-05-01   433739         1488535.0            746134.0   \n",
       "3 2018-06-01   513957         1451094.0            676750.0   \n",
       "4 2018-07-01   656696         1604392.0            809042.0   \n",
       "\n",
       "   yoy_qtr_rev_change_perc year_month_label  \n",
       "0               110.969214          2018-03  \n",
       "1               116.943305          2018-04  \n",
       "2               100.502828          2018-05  \n",
       "3                87.396558          2018-06  \n",
       "4               101.721506          2018-07  "
      ]
     },
     "execution_count": 10,
     "metadata": {},
     "output_type": "execute_result"
    }
   ],
   "source": [
    "# limit to periods that have YOY comps\n",
    "trim_qtr_df = qtr_df[14:].reset_index()\n",
    "\n",
    "# add a year and month only label (drop day)\n",
    "trim_qtr_df['year_month_label'] = trim_qtr_df['Date'].dt.to_period('m')\n",
    "\n",
    "# create csv\n",
    "# trim_qtr_df.to_csv(\"data_exports/overall_qtr_sales.csv\", index=False)\n",
    "\n",
    "trim_qtr_df.head()"
   ]
  },
  {
   "cell_type": "code",
   "execution_count": 11,
   "metadata": {
    "ExecuteTime": {
     "end_time": "2021-02-15T22:38:20.330727Z",
     "start_time": "2021-02-15T22:38:19.630603Z"
    }
   },
   "outputs": [
    {
     "data": {
      "image/png": "[encoded data removed]",
      "text/plain": [
       "<Figure size 1008x720 with 3 Axes>"
      ]
     },
     "metadata": {
      "needs_background": "light"
     },
     "output_type": "display_data"
    }
   ],
   "source": [
    "import warnings\n",
    "warnings.simplefilter(action='ignore', category=FutureWarning)\n",
    "colors = [\"#118AB2\", \"#EF476F\", \"#FFD166\", \"#06D6A0\", \"#EE754D\", \"#002E99\"]\n",
    "\n",
    "# plot rolling quarters\n",
    "fig, axs = plt.subplots(3)\n",
    "fig.set_size_inches(14, 10)\n",
    "fig.tight_layout(pad=3)\n",
    "\n",
    "axs[0].plot(trim_qtr_df['Date'], trim_qtr_df['trailing_qtr_rev'], color=colors[0], marker=\"o\")\n",
    "axs[0].set_title(\"Total Revenue by Trailing Qtr\")\n",
    "\n",
    "axs[1].bar(trim_qtr_df['Date'], trim_qtr_df['yoy_qtr_rev_change'], color=colors[1], width=20)\n",
    "axs[1].set_title(\"YOY Revenue Total Change by Trailing Qtr\")\n",
    "\n",
    "axs[2].bar(trim_qtr_df['Date'], trim_qtr_df['yoy_qtr_rev_change_perc'], color=colors[2], width=20)\n",
    "axs[2].set_title(\"YOY Revenue Percent Change by Trailing Qtr\")\n",
    "\n",
    "\n",
    "# add horizontal line at 0 for all axes\n",
    "for x in range(len(axs)):\n",
    "    axs[x].axhline(y=0, color='black', linewidth=1)\n",
    "\n",
    "plt.show()"
   ]
  },
  {
   "cell_type": "markdown",
   "metadata": {},
   "source": [
    "Findings\n",
    "- Growth was at nearly 100% YOY by trailing quarter up until 2019 where it starts to go to 10-20%.\n",
    "- There is a sharp decline in revenue in September 2019, hopefully due to a partial month of data."
   ]
  },
  {
   "cell_type": "markdown",
   "metadata": {
    "ExecuteTime": {
     "end_time": "2021-02-15T13:44:14.396443Z",
     "start_time": "2021-02-15T13:44:14.387501Z"
    }
   },
   "source": [
    "## Platform Analysis\n",
    "Will use the most recent rolling 24 months to hightlight current status and YOY change for platforms. Show the following platform views:\n",
    " - Total revenue\n",
    " - YOY revenue change\n",
    " - Number of products\n",
    " - YOY change in number of products"
   ]
  },
  {
   "cell_type": "markdown",
   "metadata": {
    "ExecuteTime": {
     "end_time": "2021-02-15T14:59:56.987608Z",
     "start_time": "2021-02-15T14:59:56.983614Z"
    }
   },
   "source": [
    "### Year Over Year"
   ]
  },
  {
   "cell_type": "code",
   "execution_count": 12,
   "metadata": {
    "ExecuteTime": {
     "end_time": "2021-02-15T22:38:20.360648Z",
     "start_time": "2021-02-15T22:38:20.332723Z"
    }
   },
   "outputs": [
    {
     "data": {
      "text/html": [
       "<div>\n",
       "<style scoped>\n",
       "    .dataframe tbody tr th:only-of-type {\n",
       "        vertical-align: middle;\n",
       "    }\n",
       "\n",
       "    .dataframe tbody tr th {\n",
       "        vertical-align: top;\n",
       "    }\n",
       "\n",
       "    .dataframe thead th {\n",
       "        text-align: right;\n",
       "    }\n",
       "</style>\n",
       "<table border=\"1\" class=\"dataframe\">\n",
       "  <thead>\n",
       "    <tr style=\"text-align: right;\">\n",
       "      <th></th>\n",
       "      <th>Platform</th>\n",
       "      <th>Revenue_current year</th>\n",
       "      <th>Revenue_last year</th>\n",
       "      <th>yoy_revenue_chg</th>\n",
       "    </tr>\n",
       "  </thead>\n",
       "  <tbody>\n",
       "    <tr>\n",
       "      <td>0</td>\n",
       "      <td>Amazon</td>\n",
       "      <td>174765.0</td>\n",
       "      <td>388213.0</td>\n",
       "      <td>-54.982188</td>\n",
       "    </tr>\n",
       "    <tr>\n",
       "      <td>1</td>\n",
       "      <td>Apple</td>\n",
       "      <td>896148.0</td>\n",
       "      <td>649654.0</td>\n",
       "      <td>37.942351</td>\n",
       "    </tr>\n",
       "  </tbody>\n",
       "</table>\n",
       "</div>"
      ],
      "text/plain": [
       "  Platform  Revenue_current year  Revenue_last year  yoy_revenue_chg\n",
       "0   Amazon              174765.0           388213.0       -54.982188\n",
       "1    Apple              896148.0           649654.0        37.942351"
      ]
     },
     "execution_count": 12,
     "metadata": {},
     "output_type": "execute_result"
    }
   ],
   "source": [
    "# get year over year customer revenue\n",
    "cust_rev_pivot_df = last_24mos_df.pivot_table(index='Platform', columns='yoy_period', aggfunc={'Revenue': 'sum'}).fillna(0)\n",
    "cust_rev_df = flatten_cols(cust_rev_pivot_df)\n",
    "cust_rev_df['yoy_revenue_chg'] = (cust_rev_df['Revenue_current year'] / cust_rev_df['Revenue_last year'] - 1) * 100\n",
    "cust_rev_df = cust_rev_df.reset_index()\n",
    "cust_rev_df.head(2)"
   ]
  },
  {
   "cell_type": "code",
   "execution_count": 13,
   "metadata": {
    "ExecuteTime": {
     "end_time": "2021-02-15T22:38:20.398547Z",
     "start_time": "2021-02-15T22:38:20.362643Z"
    }
   },
   "outputs": [
    {
     "data": {
      "text/html": [
       "<div>\n",
       "<style scoped>\n",
       "    .dataframe tbody tr th:only-of-type {\n",
       "        vertical-align: middle;\n",
       "    }\n",
       "\n",
       "    .dataframe tbody tr th {\n",
       "        vertical-align: top;\n",
       "    }\n",
       "\n",
       "    .dataframe thead th {\n",
       "        text-align: right;\n",
       "    }\n",
       "</style>\n",
       "<table border=\"1\" class=\"dataframe\">\n",
       "  <thead>\n",
       "    <tr style=\"text-align: right;\">\n",
       "      <th></th>\n",
       "      <th>Platform</th>\n",
       "      <th>products_current year</th>\n",
       "      <th>products_last year</th>\n",
       "      <th>yoy_products_chg</th>\n",
       "    </tr>\n",
       "  </thead>\n",
       "  <tbody>\n",
       "    <tr>\n",
       "      <td>0</td>\n",
       "      <td>Amazon</td>\n",
       "      <td>3.0</td>\n",
       "      <td>4.0</td>\n",
       "      <td>-25.0</td>\n",
       "    </tr>\n",
       "    <tr>\n",
       "      <td>1</td>\n",
       "      <td>Apple</td>\n",
       "      <td>1.0</td>\n",
       "      <td>1.0</td>\n",
       "      <td>0.0</td>\n",
       "    </tr>\n",
       "  </tbody>\n",
       "</table>\n",
       "</div>"
      ],
      "text/plain": [
       "  Platform  products_current year  products_last year  yoy_products_chg\n",
       "0   Amazon                    3.0                 4.0             -25.0\n",
       "1    Apple                    1.0                 1.0               0.0"
      ]
     },
     "execution_count": 13,
     "metadata": {},
     "output_type": "execute_result"
    }
   ],
   "source": [
    "# get year over year product count\n",
    "cust_prod_pivot_df = last_24mos_df.pivot_table(index='Platform', columns='yoy_period', values='Product',\n",
    "                                              aggfunc=pd.Series.nunique).fillna(0)\n",
    "\n",
    "# columns editing\n",
    "cust_prod_df = cust_prod_pivot_df.rename(columns={'current year': 'products_current year',\n",
    "                                                'last year': 'products_last year'})\n",
    "cust_prod_df.columns.name = None\n",
    "\n",
    "# add yoy change\n",
    "cust_prod_df['yoy_products_chg'] = (cust_prod_df['products_current year'] / cust_prod_df['products_last year'] - 1) * 100\n",
    "\n",
    "cust_prod_df = cust_prod_df.reset_index()\n",
    "cust_prod_df.head(2)"
   ]
  },
  {
   "cell_type": "code",
   "execution_count": 14,
   "metadata": {
    "ExecuteTime": {
     "end_time": "2021-02-15T22:38:20.418492Z",
     "start_time": "2021-02-15T22:38:20.400541Z"
    }
   },
   "outputs": [
    {
     "data": {
      "text/html": [
       "<div>\n",
       "<style scoped>\n",
       "    .dataframe tbody tr th:only-of-type {\n",
       "        vertical-align: middle;\n",
       "    }\n",
       "\n",
       "    .dataframe tbody tr th {\n",
       "        vertical-align: top;\n",
       "    }\n",
       "\n",
       "    .dataframe thead th {\n",
       "        text-align: right;\n",
       "    }\n",
       "</style>\n",
       "<table border=\"1\" class=\"dataframe\">\n",
       "  <thead>\n",
       "    <tr style=\"text-align: right;\">\n",
       "      <th></th>\n",
       "      <th>Platform</th>\n",
       "      <th>Revenue_current year</th>\n",
       "      <th>Revenue_last year</th>\n",
       "      <th>yoy_revenue_chg</th>\n",
       "      <th>products_current year</th>\n",
       "      <th>products_last year</th>\n",
       "      <th>yoy_products_chg</th>\n",
       "    </tr>\n",
       "  </thead>\n",
       "  <tbody>\n",
       "    <tr>\n",
       "      <td>0</td>\n",
       "      <td>Amazon</td>\n",
       "      <td>174765.0</td>\n",
       "      <td>388213.0</td>\n",
       "      <td>-54.982188</td>\n",
       "      <td>3.0</td>\n",
       "      <td>4.0</td>\n",
       "      <td>-25.000000</td>\n",
       "    </tr>\n",
       "    <tr>\n",
       "      <td>1</td>\n",
       "      <td>Apple</td>\n",
       "      <td>896148.0</td>\n",
       "      <td>649654.0</td>\n",
       "      <td>37.942351</td>\n",
       "      <td>1.0</td>\n",
       "      <td>1.0</td>\n",
       "      <td>0.000000</td>\n",
       "    </tr>\n",
       "    <tr>\n",
       "      <td>2</td>\n",
       "      <td>Ganges</td>\n",
       "      <td>249213.0</td>\n",
       "      <td>574901.0</td>\n",
       "      <td>-56.651145</td>\n",
       "      <td>3.0</td>\n",
       "      <td>3.0</td>\n",
       "      <td>0.000000</td>\n",
       "    </tr>\n",
       "    <tr>\n",
       "      <td>3</td>\n",
       "      <td>Grape</td>\n",
       "      <td>0.0</td>\n",
       "      <td>718932.0</td>\n",
       "      <td>-100.000000</td>\n",
       "      <td>0.0</td>\n",
       "      <td>1.0</td>\n",
       "      <td>-100.000000</td>\n",
       "    </tr>\n",
       "    <tr>\n",
       "      <td>4</td>\n",
       "      <td>Kiwi</td>\n",
       "      <td>504376.0</td>\n",
       "      <td>339019.0</td>\n",
       "      <td>48.775142</td>\n",
       "      <td>4.0</td>\n",
       "      <td>3.0</td>\n",
       "      <td>33.333333</td>\n",
       "    </tr>\n",
       "    <tr>\n",
       "      <td>5</td>\n",
       "      <td>Mississippi</td>\n",
       "      <td>450680.0</td>\n",
       "      <td>414979.0</td>\n",
       "      <td>8.603086</td>\n",
       "      <td>3.0</td>\n",
       "      <td>4.0</td>\n",
       "      <td>-25.000000</td>\n",
       "    </tr>\n",
       "    <tr>\n",
       "      <td>6</td>\n",
       "      <td>Nile</td>\n",
       "      <td>970588.0</td>\n",
       "      <td>598652.0</td>\n",
       "      <td>62.128916</td>\n",
       "      <td>1.0</td>\n",
       "      <td>1.0</td>\n",
       "      <td>0.000000</td>\n",
       "    </tr>\n",
       "    <tr>\n",
       "      <td>7</td>\n",
       "      <td>Orange</td>\n",
       "      <td>581300.0</td>\n",
       "      <td>460682.0</td>\n",
       "      <td>26.182486</td>\n",
       "      <td>4.0</td>\n",
       "      <td>4.0</td>\n",
       "      <td>0.000000</td>\n",
       "    </tr>\n",
       "    <tr>\n",
       "      <td>8</td>\n",
       "      <td>Pear</td>\n",
       "      <td>2398582.0</td>\n",
       "      <td>609001.0</td>\n",
       "      <td>293.855183</td>\n",
       "      <td>1.0</td>\n",
       "      <td>1.0</td>\n",
       "      <td>0.000000</td>\n",
       "    </tr>\n",
       "    <tr>\n",
       "      <td>9</td>\n",
       "      <td>Yangtze</td>\n",
       "      <td>1270916.0</td>\n",
       "      <td>1561540.0</td>\n",
       "      <td>-18.611371</td>\n",
       "      <td>1.0</td>\n",
       "      <td>1.0</td>\n",
       "      <td>0.000000</td>\n",
       "    </tr>\n",
       "  </tbody>\n",
       "</table>\n",
       "</div>"
      ],
      "text/plain": [
       "      Platform  Revenue_current year  Revenue_last year  yoy_revenue_chg  \\\n",
       "0       Amazon              174765.0           388213.0       -54.982188   \n",
       "1        Apple              896148.0           649654.0        37.942351   \n",
       "2       Ganges              249213.0           574901.0       -56.651145   \n",
       "3        Grape                   0.0           718932.0      -100.000000   \n",
       "4         Kiwi              504376.0           339019.0        48.775142   \n",
       "5  Mississippi              450680.0           414979.0         8.603086   \n",
       "6         Nile              970588.0           598652.0        62.128916   \n",
       "7       Orange              581300.0           460682.0        26.182486   \n",
       "8         Pear             2398582.0           609001.0       293.855183   \n",
       "9      Yangtze             1270916.0          1561540.0       -18.611371   \n",
       "\n",
       "   products_current year  products_last year  yoy_products_chg  \n",
       "0                    3.0                 4.0        -25.000000  \n",
       "1                    1.0                 1.0          0.000000  \n",
       "2                    3.0                 3.0          0.000000  \n",
       "3                    0.0                 1.0       -100.000000  \n",
       "4                    4.0                 3.0         33.333333  \n",
       "5                    3.0                 4.0        -25.000000  \n",
       "6                    1.0                 1.0          0.000000  \n",
       "7                    4.0                 4.0          0.000000  \n",
       "8                    1.0                 1.0          0.000000  \n",
       "9                    1.0                 1.0          0.000000  "
      ]
     },
     "execution_count": 14,
     "metadata": {},
     "output_type": "execute_result"
    }
   ],
   "source": [
    "# merge the revenue and product count dataframes\n",
    "cust_df = pd.merge(cust_rev_df, cust_prod_df)\n",
    "cust_df"
   ]
  },
  {
   "cell_type": "code",
   "execution_count": 15,
   "metadata": {
    "ExecuteTime": {
     "end_time": "2021-02-15T22:38:20.720684Z",
     "start_time": "2021-02-15T22:38:20.420488Z"
    }
   },
   "outputs": [
    {
     "data": {
      "text/plain": [
       "[Text(0, 0.5, 'YOY Revenue Change'), Text(0.5, 0, 'Revenue')]"
      ]
     },
     "execution_count": 15,
     "metadata": {},
     "output_type": "execute_result"
    },
    {
     "data": {
      "image/png": "[encoded data removed]",
      "text/plain": [
       "<Figure size 1080x576 with 1 Axes>"
      ]
     },
     "metadata": {
      "needs_background": "light"
     },
     "output_type": "display_data"
    }
   ],
   "source": [
    "# scatterplot showing revenue for current year vs YOY revenue change\n",
    "plt.figure(figsize=(15,8))\n",
    "g = sns.scatterplot(x='Revenue_current year', y='yoy_revenue_chg', data=cust_df, hue='Platform', s=1000)\n",
    "g.set(xlabel='Revenue', ylabel='YOY Revenue Change')"
   ]
  },
  {
   "cell_type": "markdown",
   "metadata": {},
   "source": [
    "Findings:\n",
    "- Pear has the had the highest revenue in the last 12 months, and the largest amount of growth.\n",
    "- Grape has had $0 in revenue from Oct 2018 - Sept 2019 and has declined 100% as a dropped customer."
   ]
  },
  {
   "cell_type": "code",
   "execution_count": 16,
   "metadata": {
    "ExecuteTime": {
     "end_time": "2021-02-15T22:38:20.736641Z",
     "start_time": "2021-02-15T22:38:20.722680Z"
    }
   },
   "outputs": [
    {
     "data": {
      "text/html": [
       "<div>\n",
       "<style scoped>\n",
       "    .dataframe tbody tr th:only-of-type {\n",
       "        vertical-align: middle;\n",
       "    }\n",
       "\n",
       "    .dataframe tbody tr th {\n",
       "        vertical-align: top;\n",
       "    }\n",
       "\n",
       "    .dataframe thead th {\n",
       "        text-align: right;\n",
       "    }\n",
       "</style>\n",
       "<table border=\"1\" class=\"dataframe\">\n",
       "  <thead>\n",
       "    <tr style=\"text-align: right;\">\n",
       "      <th></th>\n",
       "      <th>Platform</th>\n",
       "      <th>period</th>\n",
       "      <th>revenue</th>\n",
       "    </tr>\n",
       "  </thead>\n",
       "  <tbody>\n",
       "    <tr>\n",
       "      <td>10</td>\n",
       "      <td>Amazon</td>\n",
       "      <td>last year</td>\n",
       "      <td>388213.0</td>\n",
       "    </tr>\n",
       "    <tr>\n",
       "      <td>11</td>\n",
       "      <td>Apple</td>\n",
       "      <td>last year</td>\n",
       "      <td>649654.0</td>\n",
       "    </tr>\n",
       "  </tbody>\n",
       "</table>\n",
       "</div>"
      ],
      "text/plain": [
       "   Platform     period   revenue\n",
       "10   Amazon  last year  388213.0\n",
       "11    Apple  last year  649654.0"
      ]
     },
     "execution_count": 16,
     "metadata": {},
     "output_type": "execute_result"
    }
   ],
   "source": [
    "# unpivot for seaborn facet grid\n",
    "melted_cust_df = pd.melt(cust_df, id_vars=['Platform'], value_vars=['Revenue_current year', 'Revenue_last year'])\n",
    "melted_cust_df = melted_cust_df.sort_values('variable', ascending=False)\n",
    "melted_cust_df = melted_cust_df.rename(columns={'variable':'period', 'value':'revenue'})\n",
    "melted_cust_df['period'] = melted_cust_df['period'].str.replace('Revenue_','')\n",
    "melted_cust_df.head(2)"
   ]
  },
  {
   "cell_type": "code",
   "execution_count": 17,
   "metadata": {
    "ExecuteTime": {
     "end_time": "2021-02-15T22:38:22.047806Z",
     "start_time": "2021-02-15T22:38:20.737638Z"
    }
   },
   "outputs": [
    {
     "name": "stderr",
     "output_type": "stream",
     "text": [
      "C:\\Users\\adamj\\Anaconda3\\lib\\site-packages\\seaborn\\axisgrid.py:715: UserWarning: Using the barplot function without specifying `order` is likely to produce an incorrect plot.\n",
      "  warnings.warn(warning)\n"
     ]
    },
    {
     "data": {
      "image/png": "[encoded data removed]",
      "text/plain": [
       "<Figure size 864x648 with 10 Axes>"
      ]
     },
     "metadata": {
      "needs_background": "light"
     },
     "output_type": "display_data"
    }
   ],
   "source": [
    "# YOY revenue bar plot by company\n",
    "g = sns.FacetGrid(melted_cust_df, col='Platform', col_wrap=4, hue='Platform')\n",
    "g = g.map(sns.barplot, 'period', 'revenue')"
   ]
  },
  {
   "cell_type": "markdown",
   "metadata": {},
   "source": [
    "Findings:\n",
    "- Yangtze may be a customer to watch.  While it is the 2nd largest company in revenue, it has had year over year decline."
   ]
  },
  {
   "cell_type": "markdown",
   "metadata": {},
   "source": [
    "### Platform Spend by Month"
   ]
  },
  {
   "cell_type": "code",
   "execution_count": 18,
   "metadata": {
    "ExecuteTime": {
     "end_time": "2021-02-15T22:38:22.065763Z",
     "start_time": "2021-02-15T22:38:22.049800Z"
    }
   },
   "outputs": [
    {
     "data": {
      "text/html": [
       "<div>\n",
       "<style scoped>\n",
       "    .dataframe tbody tr th:only-of-type {\n",
       "        vertical-align: middle;\n",
       "    }\n",
       "\n",
       "    .dataframe tbody tr th {\n",
       "        vertical-align: top;\n",
       "    }\n",
       "\n",
       "    .dataframe thead th {\n",
       "        text-align: right;\n",
       "    }\n",
       "</style>\n",
       "<table border=\"1\" class=\"dataframe\">\n",
       "  <thead>\n",
       "    <tr style=\"text-align: right;\">\n",
       "      <th></th>\n",
       "      <th>Date</th>\n",
       "      <th>Platform</th>\n",
       "      <th>Revenue</th>\n",
       "    </tr>\n",
       "  </thead>\n",
       "  <tbody>\n",
       "    <tr>\n",
       "      <td>0</td>\n",
       "      <td>2017-10-01</td>\n",
       "      <td>Amazon</td>\n",
       "      <td>36844</td>\n",
       "    </tr>\n",
       "    <tr>\n",
       "      <td>1</td>\n",
       "      <td>2017-10-01</td>\n",
       "      <td>Apple</td>\n",
       "      <td>13817</td>\n",
       "    </tr>\n",
       "  </tbody>\n",
       "</table>\n",
       "</div>"
      ],
      "text/plain": [
       "        Date Platform  Revenue\n",
       "0 2017-10-01   Amazon    36844\n",
       "1 2017-10-01    Apple    13817"
      ]
     },
     "execution_count": 18,
     "metadata": {},
     "output_type": "execute_result"
    }
   ],
   "source": [
    "mon_rev_df = last_24mos_df.groupby(by=['Date', 'Platform']).agg({'Revenue': 'sum'}).reset_index()\n",
    "mon_rev_df.head(2)"
   ]
  },
  {
   "cell_type": "code",
   "execution_count": 19,
   "metadata": {
    "ExecuteTime": {
     "end_time": "2021-02-15T22:38:22.403212Z",
     "start_time": "2021-02-15T22:38:22.068786Z"
    }
   },
   "outputs": [
    {
     "data": {
      "image/png": "[encoded data removed]",
      "text/plain": [
       "<Figure size 1080x576 with 1 Axes>"
      ]
     },
     "metadata": {
      "needs_background": "light"
     },
     "output_type": "display_data"
    }
   ],
   "source": [
    "# Plot to show monthly revenue spend range and median amount by platform\n",
    "plt.figure(figsize=(15,8))\n",
    "ax = sns.swarmplot(x=\"Platform\", y=\"Revenue\", data=mon_rev_df, dodge=True)\n",
    "ax = sns.boxplot(x=\"Platform\", y=\"Revenue\", data=mon_rev_df, whis=np.inf, boxprops=dict(alpha=.15))\n",
    "ax.set_ylabel(\"Revenue\", fontname=\"Arial\", fontsize=14)\n",
    "ax.set_xlabel(\"Company\", fontname=\"Arial\", fontsize=14)\n",
    "ax.set_title(\"Monthly Spend by Platform\", fontname='Arial', fontsize=18)\n",
    "plt.show()"
   ]
  },
  {
   "cell_type": "markdown",
   "metadata": {},
   "source": [
    "How to interpret:\n",
    "- Each dot on the graph represents a companies spend for an individual month over the past 24 months.\n",
    "\n",
    "Findings:\n",
    "- Pear, Grape, and Yangtze all have wide ranges of revenue per month."
   ]
  },
  {
   "cell_type": "markdown",
   "metadata": {
    "ExecuteTime": {
     "end_time": "2021-02-15T14:04:33.250075Z",
     "start_time": "2021-02-15T14:04:33.242097Z"
    }
   },
   "source": [
    "### Platform Highlights\n",
    "Platform highlights and monthly analysis"
   ]
  },
  {
   "cell_type": "code",
   "execution_count": 20,
   "metadata": {
    "ExecuteTime": {
     "end_time": "2021-02-15T22:38:22.411185Z",
     "start_time": "2021-02-15T22:38:22.405209Z"
    }
   },
   "outputs": [],
   "source": [
    "def company_monthly_perf(df, platform):\n",
    "    \"\"\"\n",
    "    Returns a companies monthly revenue by month.\n",
    "        \n",
    "    Parameters:\n",
    "        df: the dataframe being used to derive monthly data from.\n",
    "        company: the company you want monthly revenue for\n",
    "    \"\"\"\n",
    "    \n",
    "    # filter by the company and group revenue by month\n",
    "    c_df = df.loc[(last_24mos_df['Platform'] == platform)]\n",
    "    c_df = c_df.groupby(by=['Date']).agg({'Revenue': 'sum'}).reset_index()\n",
    "    \n",
    "    # get all months to merge with c_df (in case there are months with no revenue, this will show 0 for that month)\n",
    "    m_df = df.groupby(by=df['Date']).agg({'Platform': 'count'}).reset_index().drop(columns=['Platform'])\n",
    "    \n",
    "    # merge the two dataframes, filling NaN months with 0 for revenue\n",
    "    cm_df = pd.merge(c_df, m_df, how='outer').fillna(0)\n",
    "    cm_df = cm_df.sort_values('Date', ascending=True)\n",
    "    return cm_df"
   ]
  },
  {
   "cell_type": "code",
   "execution_count": 21,
   "metadata": {
    "ExecuteTime": {
     "end_time": "2021-02-15T22:38:22.438122Z",
     "start_time": "2021-02-15T22:38:22.413179Z"
    }
   },
   "outputs": [
    {
     "data": {
      "text/html": [
       "<div>\n",
       "<style scoped>\n",
       "    .dataframe tbody tr th:only-of-type {\n",
       "        vertical-align: middle;\n",
       "    }\n",
       "\n",
       "    .dataframe tbody tr th {\n",
       "        vertical-align: top;\n",
       "    }\n",
       "\n",
       "    .dataframe thead th {\n",
       "        text-align: right;\n",
       "    }\n",
       "</style>\n",
       "<table border=\"1\" class=\"dataframe\">\n",
       "  <thead>\n",
       "    <tr style=\"text-align: right;\">\n",
       "      <th></th>\n",
       "      <th>Date</th>\n",
       "      <th>Revenue</th>\n",
       "    </tr>\n",
       "  </thead>\n",
       "  <tbody>\n",
       "    <tr>\n",
       "      <td>16</td>\n",
       "      <td>2017-10-01</td>\n",
       "      <td>0.0</td>\n",
       "    </tr>\n",
       "    <tr>\n",
       "      <td>17</td>\n",
       "      <td>2017-11-01</td>\n",
       "      <td>0.0</td>\n",
       "    </tr>\n",
       "  </tbody>\n",
       "</table>\n",
       "</div>"
      ],
      "text/plain": [
       "         Date  Revenue\n",
       "16 2017-10-01      0.0\n",
       "17 2017-11-01      0.0"
      ]
     },
     "execution_count": 21,
     "metadata": {},
     "output_type": "execute_result"
    }
   ],
   "source": [
    "pear_mo_df = company_monthly_perf(last_24mos_df, 'Pear')\n",
    "pear_mo_df.head(2)"
   ]
  },
  {
   "cell_type": "code",
   "execution_count": 22,
   "metadata": {
    "ExecuteTime": {
     "end_time": "2021-02-15T22:38:22.464043Z",
     "start_time": "2021-02-15T22:38:22.442102Z"
    }
   },
   "outputs": [
    {
     "data": {
      "text/html": [
       "<div>\n",
       "<style scoped>\n",
       "    .dataframe tbody tr th:only-of-type {\n",
       "        vertical-align: middle;\n",
       "    }\n",
       "\n",
       "    .dataframe tbody tr th {\n",
       "        vertical-align: top;\n",
       "    }\n",
       "\n",
       "    .dataframe thead th {\n",
       "        text-align: right;\n",
       "    }\n",
       "</style>\n",
       "<table border=\"1\" class=\"dataframe\">\n",
       "  <thead>\n",
       "    <tr style=\"text-align: right;\">\n",
       "      <th></th>\n",
       "      <th>Date</th>\n",
       "      <th>Revenue</th>\n",
       "    </tr>\n",
       "  </thead>\n",
       "  <tbody>\n",
       "    <tr>\n",
       "      <td>7</td>\n",
       "      <td>2017-10-01</td>\n",
       "      <td>0.0</td>\n",
       "    </tr>\n",
       "    <tr>\n",
       "      <td>0</td>\n",
       "      <td>2017-11-01</td>\n",
       "      <td>293.0</td>\n",
       "    </tr>\n",
       "  </tbody>\n",
       "</table>\n",
       "</div>"
      ],
      "text/plain": [
       "        Date  Revenue\n",
       "7 2017-10-01      0.0\n",
       "0 2017-11-01    293.0"
      ]
     },
     "execution_count": 22,
     "metadata": {},
     "output_type": "execute_result"
    }
   ],
   "source": [
    "grape_mo_df = company_monthly_perf(last_24mos_df, 'Grape')\n",
    "grape_mo_df.head(2)"
   ]
  },
  {
   "cell_type": "code",
   "execution_count": 23,
   "metadata": {
    "ExecuteTime": {
     "end_time": "2021-02-15T22:38:22.493964Z",
     "start_time": "2021-02-15T22:38:22.469032Z"
    }
   },
   "outputs": [
    {
     "data": {
      "text/html": [
       "<div>\n",
       "<style scoped>\n",
       "    .dataframe tbody tr th:only-of-type {\n",
       "        vertical-align: middle;\n",
       "    }\n",
       "\n",
       "    .dataframe tbody tr th {\n",
       "        vertical-align: top;\n",
       "    }\n",
       "\n",
       "    .dataframe thead th {\n",
       "        text-align: right;\n",
       "    }\n",
       "</style>\n",
       "<table border=\"1\" class=\"dataframe\">\n",
       "  <thead>\n",
       "    <tr style=\"text-align: right;\">\n",
       "      <th></th>\n",
       "      <th>Date</th>\n",
       "      <th>Revenue</th>\n",
       "    </tr>\n",
       "  </thead>\n",
       "  <tbody>\n",
       "    <tr>\n",
       "      <td>0</td>\n",
       "      <td>2017-10-01</td>\n",
       "      <td>122918</td>\n",
       "    </tr>\n",
       "    <tr>\n",
       "      <td>1</td>\n",
       "      <td>2017-11-01</td>\n",
       "      <td>130551</td>\n",
       "    </tr>\n",
       "  </tbody>\n",
       "</table>\n",
       "</div>"
      ],
      "text/plain": [
       "        Date  Revenue\n",
       "0 2017-10-01   122918\n",
       "1 2017-11-01   130551"
      ]
     },
     "execution_count": 23,
     "metadata": {},
     "output_type": "execute_result"
    }
   ],
   "source": [
    "yangtze_mo_df = company_monthly_perf(last_24mos_df, 'Yangtze')\n",
    "yangtze_mo_df.head(2)"
   ]
  },
  {
   "cell_type": "code",
   "execution_count": 24,
   "metadata": {
    "ExecuteTime": {
     "end_time": "2021-02-15T22:38:22.751275Z",
     "start_time": "2021-02-15T22:38:22.498953Z"
    }
   },
   "outputs": [
    {
     "data": {
      "image/png": "[encoded data removed]",
      "text/plain": [
       "<Figure size 720x540 with 1 Axes>"
      ]
     },
     "metadata": {
      "needs_background": "light"
     },
     "output_type": "display_data"
    }
   ],
   "source": [
    "fig, axs = plt.subplots()\n",
    "fig.set_size_inches(10, 7.5)\n",
    "plt.plot(pear_mo_df['Date'], pear_mo_df['Revenue'], marker='o', c=colors[0])\n",
    "plt.plot(grape_mo_df['Date'], grape_mo_df['Revenue'], marker='o', c=colors[1])\n",
    "plt.plot(yangtze_mo_df['Date'], yangtze_mo_df['Revenue'], marker='o', c=colors[2])\n",
    "\n",
    "plt.title(\"Grape and Pear Monthly Revenue\", size=18)\n",
    "plt.ylabel(\"Monthly Revenue\")\n",
    "plt.xlabel(\"Month\")\n",
    "plt.grid(axis='y')\n",
    "plt.legend(['Pear', 'Grape', 'Yangtze'],loc=\"best\", fontsize=\"large\", fancybox=True)\n",
    "plt.show()"
   ]
  },
  {
   "cell_type": "markdown",
   "metadata": {},
   "source": [
    "Findings:\n",
    "- Grape and Pear both contributed to the year over year decline in early 2019. \n",
    "- Grape discontinued purchases in June 2018. \n",
    "- Pear was lapping a year where it had higher monthly revenue.\n",
    "- Yangtze has had a moderate month over month decline in revenue."
   ]
  },
  {
   "cell_type": "markdown",
   "metadata": {},
   "source": [
    "## Product Analysis\n",
    "Will use the most recent rolling 24 months to hightlight current status and YOY change for products. Show the following product views:\n",
    " - Total revenue\n",
    " - YOY revenue change\n",
    " - Number of customer per product\n",
    " - YOY change in number of customers"
   ]
  },
  {
   "cell_type": "code",
   "execution_count": 25,
   "metadata": {
    "ExecuteTime": {
     "end_time": "2021-02-15T22:38:22.784395Z",
     "start_time": "2021-02-15T22:38:22.752271Z"
    }
   },
   "outputs": [
    {
     "data": {
      "text/html": [
       "<div>\n",
       "<style scoped>\n",
       "    .dataframe tbody tr th:only-of-type {\n",
       "        vertical-align: middle;\n",
       "    }\n",
       "\n",
       "    .dataframe tbody tr th {\n",
       "        vertical-align: top;\n",
       "    }\n",
       "\n",
       "    .dataframe thead th {\n",
       "        text-align: right;\n",
       "    }\n",
       "</style>\n",
       "<table border=\"1\" class=\"dataframe\">\n",
       "  <thead>\n",
       "    <tr style=\"text-align: right;\">\n",
       "      <th></th>\n",
       "      <th>Product</th>\n",
       "      <th>Revenue_current year</th>\n",
       "      <th>Revenue_last year</th>\n",
       "      <th>yoy_revenue_chg</th>\n",
       "    </tr>\n",
       "  </thead>\n",
       "  <tbody>\n",
       "    <tr>\n",
       "      <td>0</td>\n",
       "      <td>Core</td>\n",
       "      <td>6599420.0</td>\n",
       "      <td>5678794.0</td>\n",
       "      <td>16.211646</td>\n",
       "    </tr>\n",
       "    <tr>\n",
       "      <td>2</td>\n",
       "      <td>New Business</td>\n",
       "      <td>1158.0</td>\n",
       "      <td>16142.0</td>\n",
       "      <td>-92.826168</td>\n",
       "    </tr>\n",
       "    <tr>\n",
       "      <td>3</td>\n",
       "      <td>Social</td>\n",
       "      <td>745213.0</td>\n",
       "      <td>513425.0</td>\n",
       "      <td>45.145445</td>\n",
       "    </tr>\n",
       "    <tr>\n",
       "      <td>4</td>\n",
       "      <td>Video Platform</td>\n",
       "      <td>150554.0</td>\n",
       "      <td>107212.0</td>\n",
       "      <td>40.426445</td>\n",
       "    </tr>\n",
       "  </tbody>\n",
       "</table>\n",
       "</div>"
      ],
      "text/plain": [
       "          Product  Revenue_current year  Revenue_last year  yoy_revenue_chg\n",
       "0            Core             6599420.0          5678794.0        16.211646\n",
       "2    New Business                1158.0            16142.0       -92.826168\n",
       "3          Social              745213.0           513425.0        45.145445\n",
       "4  Video Platform              150554.0           107212.0        40.426445"
      ]
     },
     "execution_count": 25,
     "metadata": {},
     "output_type": "execute_result"
    }
   ],
   "source": [
    "# get year over year product revenue\n",
    "prod_rev_pivot_df = last_24mos_df.pivot_table(index='Product', columns='yoy_period', aggfunc={'Revenue': 'sum'}).fillna(0)\n",
    "prod_rev_df = flatten_cols(prod_rev_pivot_df)\n",
    "prod_rev_df['yoy_revenue_chg'] = (prod_rev_df['Revenue_current year'] / prod_rev_df['Revenue_last year'] - 1) * 100\n",
    "prod_rev_df = prod_rev_df.reset_index()\n",
    "\n",
    "# drop experiment product type\n",
    "prod_rev_df = prod_rev_df.replace([np.inf, -np.inf], np.nan).dropna()\n",
    "\n",
    "prod_rev_df"
   ]
  },
  {
   "cell_type": "code",
   "execution_count": 26,
   "metadata": {
    "ExecuteTime": {
     "end_time": "2021-02-15T22:38:22.820307Z",
     "start_time": "2021-02-15T22:38:22.785414Z"
    }
   },
   "outputs": [
    {
     "data": {
      "text/html": [
       "<div>\n",
       "<style scoped>\n",
       "    .dataframe tbody tr th:only-of-type {\n",
       "        vertical-align: middle;\n",
       "    }\n",
       "\n",
       "    .dataframe tbody tr th {\n",
       "        vertical-align: top;\n",
       "    }\n",
       "\n",
       "    .dataframe thead th {\n",
       "        text-align: right;\n",
       "    }\n",
       "</style>\n",
       "<table border=\"1\" class=\"dataframe\">\n",
       "  <thead>\n",
       "    <tr style=\"text-align: right;\">\n",
       "      <th>yoy_period</th>\n",
       "      <th>Product</th>\n",
       "      <th>customers_current year</th>\n",
       "      <th>customers_last year</th>\n",
       "      <th>yoy_customer_chg</th>\n",
       "    </tr>\n",
       "  </thead>\n",
       "  <tbody>\n",
       "    <tr>\n",
       "      <td>0</td>\n",
       "      <td>Core</td>\n",
       "      <td>9.0</td>\n",
       "      <td>10.0</td>\n",
       "      <td>-10.000000</td>\n",
       "    </tr>\n",
       "    <tr>\n",
       "      <td>2</td>\n",
       "      <td>New Business</td>\n",
       "      <td>1.0</td>\n",
       "      <td>3.0</td>\n",
       "      <td>-66.666667</td>\n",
       "    </tr>\n",
       "    <tr>\n",
       "      <td>3</td>\n",
       "      <td>Social</td>\n",
       "      <td>5.0</td>\n",
       "      <td>5.0</td>\n",
       "      <td>0.000000</td>\n",
       "    </tr>\n",
       "    <tr>\n",
       "      <td>4</td>\n",
       "      <td>Video Platform</td>\n",
       "      <td>5.0</td>\n",
       "      <td>5.0</td>\n",
       "      <td>0.000000</td>\n",
       "    </tr>\n",
       "  </tbody>\n",
       "</table>\n",
       "</div>"
      ],
      "text/plain": [
       "yoy_period         Product  customers_current year  customers_last year  \\\n",
       "0                     Core                     9.0                 10.0   \n",
       "2             New Business                     1.0                  3.0   \n",
       "3                   Social                     5.0                  5.0   \n",
       "4           Video Platform                     5.0                  5.0   \n",
       "\n",
       "yoy_period  yoy_customer_chg  \n",
       "0                 -10.000000  \n",
       "2                 -66.666667  \n",
       "3                   0.000000  \n",
       "4                   0.000000  "
      ]
     },
     "execution_count": 26,
     "metadata": {},
     "output_type": "execute_result"
    }
   ],
   "source": [
    "# get year over year customer count\n",
    "prod_cust_pivot_df = last_24mos_df.pivot_table(index='Product', columns='yoy_period', values='Platform',\n",
    "                                              aggfunc=pd.Series.nunique).fillna(0)\n",
    "\n",
    "# columns editing\n",
    "prod_cust_df = prod_cust_pivot_df.rename(columns={'current year': 'customers_current year',\n",
    "                                                'last year': 'customers_last year'})\n",
    "cust_prod_df.columns.name = None\n",
    "\n",
    "# add yoy change\n",
    "prod_cust_df['yoy_customer_chg'] = (prod_cust_df['customers_current year'] / prod_cust_df['customers_last year'] - 1) * 100\n",
    "prod_cust_df = prod_cust_df.reset_index()\n",
    "\n",
    "# drop experiment product type\n",
    "prod_cust_df = prod_cust_df.replace([np.inf, -np.inf], np.nan).dropna()\n",
    "\n",
    "prod_cust_df"
   ]
  },
  {
   "cell_type": "code",
   "execution_count": 27,
   "metadata": {
    "ExecuteTime": {
     "end_time": "2021-02-15T22:38:22.841243Z",
     "start_time": "2021-02-15T22:38:22.825324Z"
    }
   },
   "outputs": [
    {
     "data": {
      "text/html": [
       "<div>\n",
       "<style scoped>\n",
       "    .dataframe tbody tr th:only-of-type {\n",
       "        vertical-align: middle;\n",
       "    }\n",
       "\n",
       "    .dataframe tbody tr th {\n",
       "        vertical-align: top;\n",
       "    }\n",
       "\n",
       "    .dataframe thead th {\n",
       "        text-align: right;\n",
       "    }\n",
       "</style>\n",
       "<table border=\"1\" class=\"dataframe\">\n",
       "  <thead>\n",
       "    <tr style=\"text-align: right;\">\n",
       "      <th></th>\n",
       "      <th>Product</th>\n",
       "      <th>Revenue_current year</th>\n",
       "      <th>Revenue_last year</th>\n",
       "      <th>yoy_revenue_chg</th>\n",
       "      <th>customers_current year</th>\n",
       "      <th>customers_last year</th>\n",
       "      <th>yoy_customer_chg</th>\n",
       "    </tr>\n",
       "  </thead>\n",
       "  <tbody>\n",
       "    <tr>\n",
       "      <td>0</td>\n",
       "      <td>Core</td>\n",
       "      <td>6599420.0</td>\n",
       "      <td>5678794.0</td>\n",
       "      <td>16.211646</td>\n",
       "      <td>9.0</td>\n",
       "      <td>10.0</td>\n",
       "      <td>-10.000000</td>\n",
       "    </tr>\n",
       "    <tr>\n",
       "      <td>1</td>\n",
       "      <td>New Business</td>\n",
       "      <td>1158.0</td>\n",
       "      <td>16142.0</td>\n",
       "      <td>-92.826168</td>\n",
       "      <td>1.0</td>\n",
       "      <td>3.0</td>\n",
       "      <td>-66.666667</td>\n",
       "    </tr>\n",
       "    <tr>\n",
       "      <td>2</td>\n",
       "      <td>Social</td>\n",
       "      <td>745213.0</td>\n",
       "      <td>513425.0</td>\n",
       "      <td>45.145445</td>\n",
       "      <td>5.0</td>\n",
       "      <td>5.0</td>\n",
       "      <td>0.000000</td>\n",
       "    </tr>\n",
       "    <tr>\n",
       "      <td>3</td>\n",
       "      <td>Video Platform</td>\n",
       "      <td>150554.0</td>\n",
       "      <td>107212.0</td>\n",
       "      <td>40.426445</td>\n",
       "      <td>5.0</td>\n",
       "      <td>5.0</td>\n",
       "      <td>0.000000</td>\n",
       "    </tr>\n",
       "  </tbody>\n",
       "</table>\n",
       "</div>"
      ],
      "text/plain": [
       "          Product  Revenue_current year  Revenue_last year  yoy_revenue_chg  \\\n",
       "0            Core             6599420.0          5678794.0        16.211646   \n",
       "1    New Business                1158.0            16142.0       -92.826168   \n",
       "2          Social              745213.0           513425.0        45.145445   \n",
       "3  Video Platform              150554.0           107212.0        40.426445   \n",
       "\n",
       "   customers_current year  customers_last year  yoy_customer_chg  \n",
       "0                     9.0                 10.0        -10.000000  \n",
       "1                     1.0                  3.0        -66.666667  \n",
       "2                     5.0                  5.0          0.000000  \n",
       "3                     5.0                  5.0          0.000000  "
      ]
     },
     "execution_count": 27,
     "metadata": {},
     "output_type": "execute_result"
    }
   ],
   "source": [
    "# merge the revenue and customer count dataframes\n",
    "prod_df = pd.merge(prod_rev_df, prod_cust_df)\n",
    "prod_df"
   ]
  },
  {
   "cell_type": "code",
   "execution_count": 28,
   "metadata": {
    "ExecuteTime": {
     "end_time": "2021-02-15T22:38:23.085637Z",
     "start_time": "2021-02-15T22:38:22.843273Z"
    }
   },
   "outputs": [
    {
     "data": {
      "image/png": "[encoded data removed]",
      "text/plain": [
       "<Figure size 1080x576 with 1 Axes>"
      ]
     },
     "metadata": {
      "needs_background": "light"
     },
     "output_type": "display_data"
    }
   ],
   "source": [
    "# basic plot showing revenue for current year vs YOY revenue change\n",
    "plt.figure(figsize=(15,8))\n",
    "g = sns.scatterplot(x='Revenue_current year', y='yoy_revenue_chg', data=prod_df, hue='Product', s=1000)"
   ]
  },
  {
   "cell_type": "markdown",
   "metadata": {},
   "source": [
    "Finding:\n",
    "- While smaller in revenue compared to core, social and video platform both have significant growth up 45% and 40% respectively."
   ]
  },
  {
   "cell_type": "code",
   "execution_count": 29,
   "metadata": {
    "ExecuteTime": {
     "end_time": "2021-02-15T22:38:23.107533Z",
     "start_time": "2021-02-15T22:38:23.087583Z"
    }
   },
   "outputs": [
    {
     "data": {
      "text/html": [
       "<div>\n",
       "<style scoped>\n",
       "    .dataframe tbody tr th:only-of-type {\n",
       "        vertical-align: middle;\n",
       "    }\n",
       "\n",
       "    .dataframe tbody tr th {\n",
       "        vertical-align: top;\n",
       "    }\n",
       "\n",
       "    .dataframe thead th {\n",
       "        text-align: right;\n",
       "    }\n",
       "</style>\n",
       "<table border=\"1\" class=\"dataframe\">\n",
       "  <thead>\n",
       "    <tr style=\"text-align: right;\">\n",
       "      <th></th>\n",
       "      <th>Product</th>\n",
       "      <th>period</th>\n",
       "      <th>revenue</th>\n",
       "    </tr>\n",
       "  </thead>\n",
       "  <tbody>\n",
       "    <tr>\n",
       "      <td>4</td>\n",
       "      <td>Core</td>\n",
       "      <td>last year</td>\n",
       "      <td>5678794.0</td>\n",
       "    </tr>\n",
       "    <tr>\n",
       "      <td>5</td>\n",
       "      <td>New Business</td>\n",
       "      <td>last year</td>\n",
       "      <td>16142.0</td>\n",
       "    </tr>\n",
       "  </tbody>\n",
       "</table>\n",
       "</div>"
      ],
      "text/plain": [
       "        Product     period    revenue\n",
       "4          Core  last year  5678794.0\n",
       "5  New Business  last year    16142.0"
      ]
     },
     "execution_count": 29,
     "metadata": {},
     "output_type": "execute_result"
    }
   ],
   "source": [
    "# unpivot for seaborn facet grid\n",
    "melted_prod_df = pd.melt(prod_df, id_vars=['Product'], value_vars=['Revenue_current year', 'Revenue_last year'])\n",
    "melted_prod_df = melted_prod_df.sort_values('variable', ascending=False)\n",
    "melted_prod_df = melted_prod_df.rename(columns={'variable':'period', 'value':'revenue'})\n",
    "melted_prod_df['period'] = melted_prod_df['period'].str.replace('Revenue_','')\n",
    "melted_prod_df.head(2)"
   ]
  },
  {
   "cell_type": "code",
   "execution_count": 30,
   "metadata": {
    "ExecuteTime": {
     "end_time": "2021-02-15T22:38:23.623186Z",
     "start_time": "2021-02-15T22:38:23.109525Z"
    }
   },
   "outputs": [
    {
     "name": "stderr",
     "output_type": "stream",
     "text": [
      "C:\\Users\\adamj\\Anaconda3\\lib\\site-packages\\seaborn\\axisgrid.py:715: UserWarning: Using the barplot function without specifying `order` is likely to produce an incorrect plot.\n",
      "  warnings.warn(warning)\n"
     ]
    },
    {
     "data": {
      "image/png": "[encoded data removed]",
      "text/plain": [
       "<Figure size 432x432 with 4 Axes>"
      ]
     },
     "metadata": {
      "needs_background": "light"
     },
     "output_type": "display_data"
    }
   ],
   "source": [
    "# YOY revenue bar plot by company\n",
    "g = sns.FacetGrid(melted_prod_df, col='Product', col_wrap=2, hue='Product')\n",
    "g = g.map(sns.barplot, 'period', 'revenue')"
   ]
  },
  {
   "cell_type": "markdown",
   "metadata": {
    "ExecuteTime": {
     "end_time": "2021-02-15T15:22:12.476110Z",
     "start_time": "2021-02-15T15:22:12.468131Z"
    }
   },
   "source": [
    "Finding:\n",
    "- While video and social are growing higher from a percentage standpoint, core still represents the most growth from a revenue standpoint."
   ]
  },
  {
   "cell_type": "markdown",
   "metadata": {
    "ExecuteTime": {
     "end_time": "2021-02-15T14:21:28.105920Z",
     "start_time": "2021-02-15T14:21:28.100934Z"
    }
   },
   "source": [
    "## Format Analysis\n",
    "Focus on video"
   ]
  },
  {
   "cell_type": "code",
   "execution_count": 31,
   "metadata": {
    "ExecuteTime": {
     "end_time": "2021-02-15T22:38:23.640137Z",
     "start_time": "2021-02-15T22:38:23.625171Z"
    }
   },
   "outputs": [
    {
     "data": {
      "text/html": [
       "<div>\n",
       "<style scoped>\n",
       "    .dataframe tbody tr th:only-of-type {\n",
       "        vertical-align: middle;\n",
       "    }\n",
       "\n",
       "    .dataframe tbody tr th {\n",
       "        vertical-align: top;\n",
       "    }\n",
       "\n",
       "    .dataframe thead th {\n",
       "        text-align: right;\n",
       "    }\n",
       "</style>\n",
       "<table border=\"1\" class=\"dataframe\">\n",
       "  <thead>\n",
       "    <tr style=\"text-align: right;\">\n",
       "      <th></th>\n",
       "      <th>Revenue_Display</th>\n",
       "      <th>Revenue_Video</th>\n",
       "      <th>total_revenue</th>\n",
       "    </tr>\n",
       "    <tr>\n",
       "      <th>Date</th>\n",
       "      <th></th>\n",
       "      <th></th>\n",
       "      <th></th>\n",
       "    </tr>\n",
       "  </thead>\n",
       "  <tbody>\n",
       "    <tr>\n",
       "      <td>2017-10-01</td>\n",
       "      <td>289580</td>\n",
       "      <td>23662</td>\n",
       "      <td>313242</td>\n",
       "    </tr>\n",
       "    <tr>\n",
       "      <td>2017-11-01</td>\n",
       "      <td>309087</td>\n",
       "      <td>21141</td>\n",
       "      <td>330228</td>\n",
       "    </tr>\n",
       "  </tbody>\n",
       "</table>\n",
       "</div>"
      ],
      "text/plain": [
       "            Revenue_Display  Revenue_Video  total_revenue\n",
       "Date                                                     \n",
       "2017-10-01           289580          23662         313242\n",
       "2017-11-01           309087          21141         330228"
      ]
     },
     "execution_count": 31,
     "metadata": {},
     "output_type": "execute_result"
    }
   ],
   "source": [
    "# create revenue by format df for last 2 years\n",
    "vf_df = last_24mos_df.groupby(by=['Date', 'Format']).agg({'Revenue': 'sum'}).unstack('Format')\n",
    "vf_df = flatten_cols(vf_df)\n",
    "vf_df['total_revenue'] = vf_df['Revenue_Display'] + vf_df['Revenue_Video']\n",
    "vf_df.head(2)"
   ]
  },
  {
   "cell_type": "code",
   "execution_count": 32,
   "metadata": {
    "ExecuteTime": {
     "end_time": "2021-02-15T22:38:23.651107Z",
     "start_time": "2021-02-15T22:38:23.641137Z"
    }
   },
   "outputs": [
    {
     "data": {
      "text/html": [
       "<div>\n",
       "<style scoped>\n",
       "    .dataframe tbody tr th:only-of-type {\n",
       "        vertical-align: middle;\n",
       "    }\n",
       "\n",
       "    .dataframe tbody tr th {\n",
       "        vertical-align: top;\n",
       "    }\n",
       "\n",
       "    .dataframe thead th {\n",
       "        text-align: right;\n",
       "    }\n",
       "</style>\n",
       "<table border=\"1\" class=\"dataframe\">\n",
       "  <thead>\n",
       "    <tr style=\"text-align: right;\">\n",
       "      <th></th>\n",
       "      <th>Date</th>\n",
       "      <th>Revenue_Display</th>\n",
       "      <th>Revenue_Video</th>\n",
       "      <th>total_revenue</th>\n",
       "    </tr>\n",
       "  </thead>\n",
       "  <tbody>\n",
       "    <tr>\n",
       "      <td>0</td>\n",
       "      <td>2017-10-01</td>\n",
       "      <td>92.446096</td>\n",
       "      <td>7.553904</td>\n",
       "      <td>100.0</td>\n",
       "    </tr>\n",
       "    <tr>\n",
       "      <td>1</td>\n",
       "      <td>2017-11-01</td>\n",
       "      <td>93.598060</td>\n",
       "      <td>6.401940</td>\n",
       "      <td>100.0</td>\n",
       "    </tr>\n",
       "  </tbody>\n",
       "</table>\n",
       "</div>"
      ],
      "text/plain": [
       "        Date  Revenue_Display  Revenue_Video  total_revenue\n",
       "0 2017-10-01        92.446096       7.553904          100.0\n",
       "1 2017-11-01        93.598060       6.401940          100.0"
      ]
     },
     "execution_count": 32,
     "metadata": {},
     "output_type": "execute_result"
    }
   ],
   "source": [
    "# convert to percentages\n",
    "vf_perc_df = vf_df.div(vf_df['total_revenue'], axis=0) * 100 \n",
    "vf_perc_df = vf_perc_df.reset_index()\n",
    "vf_perc_df.head(2)"
   ]
  },
  {
   "cell_type": "code",
   "execution_count": 33,
   "metadata": {
    "ExecuteTime": {
     "end_time": "2021-02-15T22:38:23.859552Z",
     "start_time": "2021-02-15T22:38:23.652073Z"
    }
   },
   "outputs": [
    {
     "data": {
      "image/png": "[encoded data removed]",
      "text/plain": [
       "<Figure size 864x288 with 1 Axes>"
      ]
     },
     "metadata": {
      "needs_background": "light"
     },
     "output_type": "display_data"
    }
   ],
   "source": [
    "# plot the percent of revenue from video by month\n",
    "plt.figure(figsize=(12,4))\n",
    "ax1 = plt.bar(vf_perc_df['Date'], vf_perc_df['Revenue_Video'], width=20, color=colors[0])\n",
    "ax2 = plt.bar(vf_perc_df['Date'], vf_perc_df['Revenue_Display'], width=20, bottom=vf_perc_df['Revenue_Video'], color='#e6e6e6')\n",
    "plt.legend(['Video', 'Display'],loc='upper left', fontsize=12, fancybox=True)\n",
    "plt.show()"
   ]
  },
  {
   "cell_type": "markdown",
   "metadata": {},
   "source": [
    "Finding:\n",
    "- Share of revenue by video format has been higher in the most recent quarter."
   ]
  },
  {
   "cell_type": "markdown",
   "metadata": {},
   "source": [
    "## Device Analysis"
   ]
  },
  {
   "cell_type": "code",
   "execution_count": 34,
   "metadata": {
    "ExecuteTime": {
     "end_time": "2021-02-15T22:38:23.880461Z",
     "start_time": "2021-02-15T22:38:23.861548Z"
    }
   },
   "outputs": [
    {
     "data": {
      "text/html": [
       "<div>\n",
       "<style scoped>\n",
       "    .dataframe tbody tr th:only-of-type {\n",
       "        vertical-align: middle;\n",
       "    }\n",
       "\n",
       "    .dataframe tbody tr th {\n",
       "        vertical-align: top;\n",
       "    }\n",
       "\n",
       "    .dataframe thead th {\n",
       "        text-align: right;\n",
       "    }\n",
       "</style>\n",
       "<table border=\"1\" class=\"dataframe\">\n",
       "  <thead>\n",
       "    <tr style=\"text-align: right;\">\n",
       "      <th></th>\n",
       "      <th>Revenue_Desktop</th>\n",
       "      <th>Revenue_Mobile</th>\n",
       "      <th>total_revenue</th>\n",
       "    </tr>\n",
       "    <tr>\n",
       "      <th>Date</th>\n",
       "      <th></th>\n",
       "      <th></th>\n",
       "      <th></th>\n",
       "    </tr>\n",
       "  </thead>\n",
       "  <tbody>\n",
       "    <tr>\n",
       "      <td>2017-10-01</td>\n",
       "      <td>160938</td>\n",
       "      <td>152304</td>\n",
       "      <td>313242</td>\n",
       "    </tr>\n",
       "    <tr>\n",
       "      <td>2017-11-01</td>\n",
       "      <td>178832</td>\n",
       "      <td>151396</td>\n",
       "      <td>330228</td>\n",
       "    </tr>\n",
       "  </tbody>\n",
       "</table>\n",
       "</div>"
      ],
      "text/plain": [
       "            Revenue_Desktop  Revenue_Mobile  total_revenue\n",
       "Date                                                      \n",
       "2017-10-01           160938          152304         313242\n",
       "2017-11-01           178832          151396         330228"
      ]
     },
     "execution_count": 34,
     "metadata": {},
     "output_type": "execute_result"
    }
   ],
   "source": [
    "# create revenue by format df for last 2 years\n",
    "dev_df = last_24mos_df.groupby(by=['Date', 'Device']).agg({'Revenue': 'sum'}).unstack('Device')\n",
    "dev_df = flatten_cols(dev_df)\n",
    "dev_df['total_revenue'] = dev_df['Revenue_Desktop'] + dev_df['Revenue_Mobile']\n",
    "dev_df.head(2)"
   ]
  },
  {
   "cell_type": "code",
   "execution_count": 35,
   "metadata": {
    "ExecuteTime": {
     "end_time": "2021-02-15T22:38:24.152733Z",
     "start_time": "2021-02-15T22:38:23.881460Z"
    }
   },
   "outputs": [
    {
     "data": {
      "image/png": "[encoded data removed]",
      "text/plain": [
       "<Figure size 720x540 with 1 Axes>"
      ]
     },
     "metadata": {
      "needs_background": "light"
     },
     "output_type": "display_data"
    }
   ],
   "source": [
    "fig, axs = plt.subplots()\n",
    "fig.set_size_inches(10, 7.5)\n",
    "plt.plot(dev_df.index, dev_df['Revenue_Desktop'], marker='o', c=colors[0])\n",
    "plt.plot(dev_df.index, dev_df['Revenue_Mobile'], marker='o', c=colors[1])\n",
    "\n",
    "plt.title(\"Revenue by Device\", size=18)\n",
    "plt.ylabel(\"Revenue\")\n",
    "plt.xlabel(\"Month\")\n",
    "plt.grid(axis='y')\n",
    "plt.legend(['Desktop', 'Browser'],loc=\"best\", fontsize=\"large\", fancybox=True)\n",
    "plt.show()"
   ]
  },
  {
   "cell_type": "markdown",
   "metadata": {},
   "source": [
    "Finding:\n",
    "- The spike in revenue in late 2018 was driven by desktop devices"
   ]
  },
  {
   "cell_type": "markdown",
   "metadata": {},
   "source": [
    "# About Me\n",
    "Thank you for taking the time to review my notebook! To learn more about me please visit my professional website at:\n",
    "\n",
    "https://admiral810.github.io/ "
   ]
  },
  {
   "cell_type": "markdown",
   "metadata": {},
   "source": [
    "<img src=\"images/me.png\">"
   ]
  },
  {
   "cell_type": "code",
   "execution_count": null,
   "metadata": {},
   "outputs": [],
   "source": []
  }
 ],
 "metadata": {
  "kernelspec": {
   "display_name": "Python 3",
   "language": "python",
   "name": "python3"
  },
  "language_info": {
   "codemirror_mode": {
    "name": "ipython",
    "version": 3
   },
   "file_extension": ".py",
   "mimetype": "text/x-python",
   "name": "python",
   "nbconvert_exporter": "python",
   "pygments_lexer": "ipython3",
   "version": "3.7.4"
  },
  "toc": {
   "base_numbering": 1,
   "nav_menu": {},
   "number_sections": true,
   "sideBar": true,
   "skip_h1_title": false,
   "title_cell": "Table of Contents",
   "title_sidebar": "Contents",
   "toc_cell": false,
   "toc_position": {
    "height": "calc(100% - 180px)",
    "left": "10px",
    "top": "150px",
    "width": "225.2px"
   },
   "toc_section_display": true,
   "toc_window_display": true
  },
  "varInspector": {
   "cols": {
    "lenName": 16,
    "lenType": 16,
    "lenVar": 40
   },
   "kernels_config": {
    "python": {
     "delete_cmd_postfix": "",
     "delete_cmd_prefix": "del ",
     "library": "var_list.py",
     "varRefreshCmd": "print(var_dic_list())"
    },
    "r": {
     "delete_cmd_postfix": ") ",
     "delete_cmd_prefix": "rm(",
     "library": "var_list.r",
     "varRefreshCmd": "cat(var_dic_list()) "
    }
   },
   "types_to_exclude": [
    "module",
    "function",
    "builtin_function_or_method",
    "instance",
    "_Feature"
   ],
   "window_display": false
  }
 },
 "nbformat": 4,
 "nbformat_minor": 2
}
